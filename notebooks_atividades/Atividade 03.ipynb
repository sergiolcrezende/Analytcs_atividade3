{
 "cells": [
  {
   "attachments": {},
   "cell_type": "markdown",
   "id": "ebfbea4e",
   "metadata": {},
   "source": [
    "# Atividade 3\n",
    "\n",
    "Faça tudo via dbt. \n",
    "\n",
    "Envia como resposta:\n",
    "- A query SQL\n",
    "- Comando utilizado via terminal no `dbt`\n",
    "- Um print do resultado no próprio notebook, para isso é necessário criar uma pasta no repositório onde serão armazenadas as imagens, e para inserir no notebook é necessário criar uma célula `markdown` e inserir o seguinte comando: \n",
    "\n",
    "```markdown\n",
    "![Nome da Foto](path/para/imagem)\n",
    "```"
   ]
  },
  {
   "attachments": {},
   "cell_type": "markdown",
   "id": "c0c42967",
   "metadata": {},
   "source": [
    "1. Crie uma tabela `orders_by_year` a partir de `orders` que agrupa a quantidade de pedidos por ano, considerando a coluna `order_approved_at`\n",
    "\n",
    "{\n",
    "    [query --> ./models/orders_by_year.sql ]\n",
    "\n",
    "        {{ config(materialized='table') }}\n",
    "\n",
    "        SELECT\n",
    "            EXTRACT(YEAR FROM order_approved_at) AS order_approved_year,\n",
    "            COUNT(order_id) AS num_orders\n",
    "        FROM\n",
    "            `dbt_shop.orders`\n",
    "        GROUP BY\n",
    "            1\n",
    "\n",
    "    [comando --> cd shop]\n",
    "    \n",
    "        dbt run --models shop.orders_by_year\n",
    "}"
   ]
  },
  {
   "attachments": {},
   "cell_type": "markdown",
   "id": "0a740229",
   "metadata": {},
   "source": [
    "[1a-imagem]\n",
    "   ./imagem_query/1a-questao.png"
   ]
  },
  {
   "attachments": {},
   "cell_type": "markdown",
   "id": "aa520524",
   "metadata": {},
   "source": [
    "2. Crie uma `view` que agrega os totais de pedidos por estado. Considere as tabelas _customers_ para obter os estados (coluna _customer_state_) e _orders_ para contabilizar a quantidade de pedidos.\n",
    "\n",
    "{\n",
    "\n",
    "    [query --> ./models/total_orders_by_state.sql]\n",
    "\n",
    "        {{ config(materialized='view') }}\n",
    "\n",
    "        SELECT\n",
    "          `dbt_shop.custmers`.customer_state,\n",
    "          COUNT(`dbt_shop.orders`.order_id) AS num_orders\n",
    "        FROM\n",
    "            `dbt_shop.custmers`\n",
    "        JOIN\n",
    "            `dbt_shop.orders` \n",
    "        ON\n",
    "          `dbt_shop.custmers`.customer_id = `dbt_shop.orders`.customer_id\n",
    "        GROUP BY\n",
    "          1\n",
    "        \n",
    "    [comando --> cd shop]\n",
    "\n",
    "      dbt run --models shop.total_orders_by_state\n",
    "\n",
    "}"
   ]
  },
  {
   "attachments": {},
   "cell_type": "markdown",
   "id": "830b2012",
   "metadata": {},
   "source": [
    "[2a-imagem]\n",
    "   ./imagem_query/2a-questao.png"
   ]
  },
  {
   "attachments": {},
   "cell_type": "markdown",
   "id": "54e0e5f1",
   "metadata": {},
   "source": [
    "3. De acordo com o resultado do exercício 2 retorne apenas os estados que tem mais de 5000 pedidos, esse número deve ser passado via variável `number_of_orders` do `dbt`.\n",
    "\n",
    "{\n",
    "    [query --> ./models/total_orders_by_state1.sql]\n",
    "\n",
    "        {{config(materialized='view')}}\n",
    "\n",
    "        SELECT\n",
    "        `dbt_shop.custmers`.customer_state,\n",
    "        COUNT(`dbt_shop.orders`.order_id) AS num_orders\n",
    "        FROM\n",
    "            `dbt_shop.custmers`\n",
    "        JOIN\n",
    "            `dbt_shop.orders` \n",
    "        ON\n",
    "        `dbt_shop.custmers`.customer_id = `dbt_shop.orders`.customer_id\n",
    "        GROUP BY\n",
    "        1\n",
    "        HAVING\n",
    "        COUNT(`dbt_shop.orders`.order_id) > {{ var('number_of_orders') }}\n",
    "\n",
    "    [comando --> cd shop]\n",
    "     \n",
    "       dbt run --models shop.total_orders_by_state1dbt run --models shop.total_orders_by_state1 --vars \"{'number_of_orders': '5000'}\"\n",
    "\n",
    "}"
   ]
  },
  {
   "attachments": {},
   "cell_type": "markdown",
   "id": "551a808b",
   "metadata": {},
   "source": [
    "[3a-imagem]\n",
    "   ./imagem_query/3a-questao.png"
   ]
  },
  {
   "attachments": {},
   "cell_type": "markdown",
   "id": "9c3ad0cc",
   "metadata": {},
   "source": [
    "4. Crie uma `view` chamada `customers_by_region` que utiliza os dados da tabela `customers`. A visão deve realizar uma agregação por região do Brasil (Norte, Nordeste, Sudeste, Centro Oeste e Sul) e contar o número de clientes em cada uma delas.\n",
    "\n",
    "{\n",
    "        [query --> ./models/customers_by_region.sql]\n",
    "            {{config(materialized='view')}}\n",
    "\n",
    "            SELECT\n",
    "            CASE\n",
    "                WHEN customer_state IN ('AC', 'AM', 'AP', 'PA', 'RO', 'RR', 'TO') THEN 'Norte'\n",
    "                WHEN customer_state IN ('AL', 'BA', 'CE', 'MA', 'PB', 'PE', 'PI', 'RN', 'SE') THEN 'Nordeste'\n",
    "                WHEN customer_state IN ('ES', 'MG', 'RJ', 'SP') THEN 'Sudeste'\n",
    "                WHEN customer_state IN ('DF', 'GO', 'MS', 'MT') THEN 'Centro-Oeste'\n",
    "                WHEN customer_state IN ('PR', 'RS', 'SC') THEN 'Sul'\n",
    "            END AS region,\n",
    "            COUNT(DISTINCT customer_id) AS num_customers\n",
    "            FROM\n",
    "                `dbt_shop.custmers`\n",
    "            GROUP BY\n",
    "            1\n",
    "\n",
    "        [comando --> cd shop]\n",
    "        \n",
    "            dbt run --models shop.customers_by_region\n",
    "\n",
    "}\n"
   ]
  },
  {
   "attachments": {},
   "cell_type": "markdown",
   "id": "df096829",
   "metadata": {},
   "source": [
    "[4a-imagem]\n",
    "   ./imagem_query/4a-questao.png"
   ]
  },
  {
   "attachments": {},
   "cell_type": "markdown",
   "id": "d4c16290",
   "metadata": {},
   "source": [
    "5. Crie uma tabela `items_costs` que contenha o preço total de um item (soma do valor do produto com o frete).\n",
    "\n",
    "{\n",
    "    [query  -> ./models/items_costs.sql]\n",
    "        {{ config(materialized='table') }}\n",
    "\n",
    "\n",
    "        SELECT\n",
    "            `dbt_shop.items`.product_id as product,\n",
    "            SUM(`dbt_shop.items`.price + `dbt_shop.items`.freight_value) as item_total_cost\n",
    "        FROM\n",
    "            `dbt_shop.items` \n",
    "        GROUP BY\n",
    "            1\n",
    "\n",
    "    [comando --> cd shop]\n",
    "\n",
    "        dbt run --models shop.items_costs       \n",
    "}"
   ]
  },
  {
   "attachments": {},
   "cell_type": "markdown",
   "id": "82f5b9d4",
   "metadata": {},
   "source": [
    "[5a-imagem]\n",
    "   ./imagem_query/5a-questao.png"
   ]
  },
  {
   "attachments": {},
   "cell_type": "markdown",
   "id": "08cc4c02",
   "metadata": {},
   "source": [
    "6. Crie uma `view` com o nome `orders_shipped_costs`, você deve calcular o preço total do pedido somado com o frete, apenas para pedidos enviado (shipped).\n",
    "\n",
    "{\n",
    "   [query --> ./models/orders_shipped_costs]\n",
    "\n",
    "         {{config(materialized='view')}}\n",
    "      \n",
    "         SELECT\n",
    "               `dbt_shop.orders`.order_id,\n",
    "               SUM(`dbt_shop.items`.price + `dbt_shop.items`.freight_value) AS order_total_cost\n",
    "         FROM\n",
    "               `dbt_shop.items`\n",
    "            JOIN \n",
    "               `dbt_shop.orders`\n",
    "            ON \n",
    "               `dbt_shop.items`.order_id = `dbt_shop.orders`.order_id\n",
    "         WHERE\n",
    "            `dbt_shop.orders`.order_status = 'shipped'\n",
    "         GROUP BY\n",
    "            `dbt_shop.orders`.order_id\n",
    "\n",
    "   [comando --> cd shop]\n",
    "      dbt run --models shop.orders_shipped_costs\n",
    "\n",
    "}"
   ]
  },
  {
   "attachments": {},
   "cell_type": "markdown",
   "id": "8848ddd8",
   "metadata": {},
   "source": [
    "[6a-imagem]\n",
    "   ./imagem_query/6a-questao.png"
   ]
  }
 ],
 "metadata": {
  "kernelspec": {
   "display_name": "Python 3",
   "language": "python",
   "name": "python3"
  },
  "language_info": {
   "codemirror_mode": {
    "name": "ipython",
    "version": 3
   },
   "file_extension": ".py",
   "mimetype": "text/x-python",
   "name": "python",
   "nbconvert_exporter": "python",
   "pygments_lexer": "ipython3",
   "version": "3.9.1"
  }
 },
 "nbformat": 4,
 "nbformat_minor": 5
}
